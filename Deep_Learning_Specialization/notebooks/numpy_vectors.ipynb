{
 "cells": [
  {
   "cell_type": "code",
   "execution_count": 1,
   "metadata": {},
   "outputs": [],
   "source": [
    "import numpy as np"
   ]
  },
  {
   "cell_type": "code",
   "execution_count": 2,
   "metadata": {},
   "outputs": [
    {
     "name": "stdout",
     "output_type": "stream",
     "text": [
      "[ 0.03075036 -1.86327403 -0.8247813   1.79451465 -0.46410181]\n"
     ]
    }
   ],
   "source": [
    "a = np.random.randn(5)\n",
    "print(a)"
   ]
  },
  {
   "cell_type": "code",
   "execution_count": 3,
   "metadata": {},
   "outputs": [
    {
     "name": "stdout",
     "output_type": "stream",
     "text": [
      "[ 0.03075036 -1.86327403 -0.8247813   1.79451465 -0.46410181]\n"
     ]
    }
   ],
   "source": [
    "print(a.T)"
   ]
  },
  {
   "cell_type": "code",
   "execution_count": 4,
   "metadata": {},
   "outputs": [
    {
     "name": "stdout",
     "output_type": "stream",
     "text": [
      "7.588673197140454\n"
     ]
    }
   ],
   "source": [
    "print(np.dot(a, a.T))"
   ]
  },
  {
   "cell_type": "code",
   "execution_count": 6,
   "metadata": {},
   "outputs": [
    {
     "name": "stdout",
     "output_type": "stream",
     "text": [
      "[[-0.54267385]\n",
      " [-1.54730168]\n",
      " [-0.61913396]\n",
      " [ 2.24371566]\n",
      " [ 1.30336844]]\n"
     ]
    }
   ],
   "source": [
    "a = np.random.randn(5, 1)\n",
    "print(a)"
   ]
  },
  {
   "cell_type": "code",
   "execution_count": 7,
   "metadata": {},
   "outputs": [
    {
     "name": "stdout",
     "output_type": "stream",
     "text": [
      "[[-0.54267385 -1.54730168 -0.61913396  2.24371566  1.30336844]]\n"
     ]
    }
   ],
   "source": [
    "print(a.T)"
   ]
  },
  {
   "cell_type": "code",
   "execution_count": 8,
   "metadata": {},
   "outputs": [
    {
     "name": "stdout",
     "output_type": "stream",
     "text": [
      "[[ 0.29449491  0.83968016  0.33598781 -1.21760583 -0.70730397]\n",
      " [ 0.83968016  2.39414248  0.95798702 -3.47170501 -2.01670417]\n",
      " [ 0.33598781  0.95798702  0.38332686 -1.38916057 -0.80695966]\n",
      " [-1.21760583 -3.47170501 -1.38916057  5.03425997  2.92438817]\n",
      " [-0.70730397 -2.01670417 -0.80695966  2.92438817  1.69876928]]\n"
     ]
    }
   ],
   "source": [
    "print(np.dot(a, a.T))"
   ]
  },
  {
   "cell_type": "code",
   "execution_count": 13,
   "metadata": {},
   "outputs": [
    {
     "name": "stdout",
     "output_type": "stream",
     "text": [
      "[[-0.09843485  0.6163623   0.16175047 -0.76251079]\n",
      " [ 0.19824628  0.24284276  0.5690304   0.3040784 ]\n",
      " [ 0.98766836 -1.28757795 -0.31242771  0.10795121]]\n",
      "[[ 0.18889931]\n",
      " [-1.16684472]\n",
      " [-0.64464779]\n",
      " [ 0.62859817]]\n"
     ]
    },
    {
     "data": {
      "text/plain": [
       "array([[ 0.09046447, -0.55048242, -0.48289732, -0.13391262],\n",
       "       [ 0.38714559, -0.92400196, -0.07561739,  0.93267657],\n",
       "       [ 1.17656767, -2.45442267, -0.9570755 ,  0.73654938]])"
      ]
     },
     "execution_count": 13,
     "metadata": {},
     "output_type": "execute_result"
    }
   ],
   "source": [
    "a=np.random.randn(3,4)\n",
    "b=np.random.randn(4,1)\n",
    "print(a)\n",
    "print(b)\n",
    "a + b.T"
   ]
  },
  {
   "cell_type": "code",
   "execution_count": 18,
   "metadata": {},
   "outputs": [
    {
     "data": {
      "text/plain": [
       "array([[4, 1],\n",
       "       [1, 9]])"
      ]
     },
     "execution_count": 18,
     "metadata": {},
     "output_type": "execute_result"
    }
   ],
   "source": [
    "a=np.array([[2,1],[1,3]])\n",
    "a*a"
   ]
  },
  {
   "cell_type": "code",
   "execution_count": null,
   "metadata": {},
   "outputs": [],
   "source": []
  }
 ],
 "metadata": {
  "kernelspec": {
   "display_name": "cs229",
   "language": "python",
   "name": "python3"
  },
  "language_info": {
   "codemirror_mode": {
    "name": "ipython",
    "version": 3
   },
   "file_extension": ".py",
   "mimetype": "text/x-python",
   "name": "python",
   "nbconvert_exporter": "python",
   "pygments_lexer": "ipython3",
   "version": "3.9.18"
  }
 },
 "nbformat": 4,
 "nbformat_minor": 2
}
